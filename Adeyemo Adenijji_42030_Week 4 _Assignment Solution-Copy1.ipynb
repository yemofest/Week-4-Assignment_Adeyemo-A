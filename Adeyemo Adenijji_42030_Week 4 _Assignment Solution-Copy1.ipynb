{
 "cells": [
  {
   "cell_type": "markdown",
   "id": "e3c789cb",
   "metadata": {},
   "source": [
    "# Solution to Q1"
   ]
  },
  {
   "cell_type": "code",
   "execution_count": 6,
   "id": "59c5b420",
   "metadata": {},
   "outputs": [
    {
     "name": "stdout",
     "output_type": "stream",
     "text": [
      "7\n",
      "33\n"
     ]
    }
   ],
   "source": [
    "def add_two_numbers (num1, num2):\n",
    "    sum = num1 + num2\n",
    "    return sum\n",
    "print(add_two_numbers (4, 3))\n",
    "print(add_two_numbers (10, 23))"
   ]
  },
  {
   "cell_type": "markdown",
   "id": "da892de1",
   "metadata": {},
   "source": [
    "# Solution to Q2"
   ]
  },
  {
   "cell_type": "code",
   "execution_count": 12,
   "id": "51253025",
   "metadata": {},
   "outputs": [
    {
     "name": "stdout",
     "output_type": "stream",
     "text": [
      "The factorial is 16\n"
     ]
    }
   ],
   "source": [
    "def factorial(x):\n",
    "    return(x**2)\n",
    "factorial(4)\n",
    "result = factorial(4)\n",
    "print(\"The factorial is\", result)\n",
    "    "
   ]
  },
  {
   "cell_type": "markdown",
   "id": "5e34afe4",
   "metadata": {},
   "source": [
    "# Solution to Q3"
   ]
  },
  {
   "cell_type": "code",
   "execution_count": 17,
   "id": "7561c1b8",
   "metadata": {},
   "outputs": [
    {
     "name": "stdout",
     "output_type": "stream",
     "text": [
      "[0, 2, 4, 6, 8, 10, 12]\n",
      "[0, 2, 4, 6, 8]\n",
      "[0, 2, 4, 6]\n"
     ]
    }
   ],
   "source": [
    "def find_even_numbers(n):\n",
    "    evens = []\n",
    "    for i in range(n+1):\n",
    "        if i%2 == 0:\n",
    "            evens.append(i)\n",
    "    return evens\n",
    "print(find_even_numbers(12))\n",
    "print(find_even_numbers(8))\n",
    "print(find_even_numbers(6))"
   ]
  },
  {
   "cell_type": "markdown",
   "id": "b47ea10b",
   "metadata": {},
   "source": [
    "# Solution to Q4"
   ]
  },
  {
   "cell_type": "code",
   "execution_count": 41,
   "id": "710c1041",
   "metadata": {},
   "outputs": [
    {
     "name": "stdout",
     "output_type": "stream",
     "text": [
      "Mean: 3.0\n"
     ]
    }
   ],
   "source": [
    "def calculate_mean(numbers):\n",
    "    \"\"\"\n",
    "    Calculate the mean of a list of numbers.\n",
    "\n",
    "    Parameters:\n",
    "    numbers (list): A list of numeric values.\n",
    "\n",
    "    Returns:\n",
    "    float: The mean of the input numbers.\n",
    "    \"\"\"\n",
    "    if not numbers:\n",
    "        return None  # Return None for an empty list to avoid division by zero\n",
    "\n",
    "    total = sum(numbers)\n",
    "    mean = total / len(numbers)\n",
    "    return mean\n",
    "\n",
    "# Execute:\n",
    "numbers_list = [1, 2, 3, 4, 5]\n",
    "result_mean = calculate_mean(numbers_list)\n",
    "print(\"Mean:\", result_mean)\n"
   ]
  }
 ],
 "metadata": {
  "kernelspec": {
   "display_name": "Python 3 (ipykernel)",
   "language": "python",
   "name": "python3"
  },
  "language_info": {
   "codemirror_mode": {
    "name": "ipython",
    "version": 3
   },
   "file_extension": ".py",
   "mimetype": "text/x-python",
   "name": "python",
   "nbconvert_exporter": "python",
   "pygments_lexer": "ipython3",
   "version": "3.11.5"
  }
 },
 "nbformat": 4,
 "nbformat_minor": 5
}
